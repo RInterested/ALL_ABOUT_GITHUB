{
  "nbformat": 4,
  "nbformat_minor": 0,
  "metadata": {
    "colab": {
      "name": "Facts.ipynb",
      "provenance": [],
      "collapsed_sections": [],
      "authorship_tag": "ABX9TyMIFo4zP7BibOQPA2hG62uX",
      "include_colab_link": true
    },
    "kernelspec": {
      "name": "ir",
      "display_name": "R"
    }
  },
  "cells": [
    {
      "cell_type": "markdown",
      "metadata": {
        "id": "view-in-github",
        "colab_type": "text"
      },
      "source": [
        "<a href=\"https://colab.research.google.com/github/RInterested/ALL_ABOUT_GITHUB/blob/master/Facts.ipynb\" target=\"_parent\"><img src=\"https://colab.research.google.com/assets/colab-badge.svg\" alt=\"Open In Colab\"/></a>"
      ]
    },
    {
      "cell_type": "markdown",
      "metadata": {
        "id": "HCxNcbGALErl"
      },
      "source": [
        "In the [Stanford Encyclopedia of Philosophy][1]\r\n",
        "\r\n",
        "\r\n",
        "> Let $W$ be the set of all possible worlds, $F$ the function which assigns\r\n",
        "> to each world $w$ the set $F_w$ of facts which exist in it, and $F$ the union\r\n",
        "> of all the $F_w$s, i.e., the set of all facts. We assume that $W$ has\r\n",
        "> infinitely many members. This is a reasonable assumption, which will\r\n",
        "> have some importance in what follows with respect to certain\r\n",
        "> entailment claims we are going to make (not having the assumption\r\n",
        "> would force us to distinguish cases). Since we are dealing with\r\n",
        "> theories of facts, we shall also assume that $F$ is non-empty. Although\r\n",
        "> perhaps there are impossible states of affairs or situations, we take\r\n",
        "> it that there are no impossible facts. That is why there is no room\r\n",
        "> for them in our framework.\r\n",
        ">\r\n",
        ">Where $x$ is a fact, $\\text{es}(x)$ (the *existence-set* of\r\n",
        "$x$ is the set of all worlds at which $x$ exists. And where $G$\r\n",
        "is a set of facts, $\\text{ces}(x)$ (the *conjunctive-existence-set*\r\n",
        "of $G$) is $\\bigcap_{x\\in G} \\text{es}(x)$, i.e., the set of worlds at\r\n",
        "which all elements of $G$ exist, and $\\text{des}(G)$ (the\r\n",
        "*disjunctive-existence-set* of $G$ is $\\bigcup_{x\\in G}\r\n",
        "\\text{es}(x),$ i.e., the set of worlds at which some elements of $G$\r\n",
        "exist. Notice that $\\text{es}(\\emptyset) = W,$ $\\text{ces}(\\emptyset)=\\emptyset$, and that given any $G \\neq \\emptyset, \\text{ces}(G)\\subseteq \\text{des}(G)$). (Here and elsewhere, we borrow some vocabulary\r\n",
        "and symbolism from Fine 1982.)\r\n",
        ">\r\n",
        ">...\r\n",
        ">\r\n",
        ">No Twins. Worlds with the very same facts (twins, for short) are identical, i.e., $Fw=Fv$ implies $w=v,$ i.e., $F$ is injective.\r\n",
        ">\r\n",
        ">Another formulation of No Twins might be the following: the identity of a world is completely determined by which facts hold in it. No Twins imposes serious constraints on the cardinality of $F.$ In particular, since there are infinitely many worlds, No Twins implies that there must also be infinitely many facts.\r\n",
        "\r\n",
        "So there are two mappings going on:\r\n",
        "\r\n",
        "$$\\begin{align} F : W & \\to F_w \\\\[2ex]\r\n",
        "\\; w & \\mapsto F_w(w)\r\n",
        "\\end{align}$$\r\n",
        "\r\n",
        "and \r\n",
        "\r\n",
        "\r\n",
        "$$\\begin{align} \\text{es} : F_w & \\to W \\\\[2ex]\r\n",
        "\\; x & \\mapsto w\r\n",
        "\\end{align}$$\r\n",
        "\r\n",
        "\r\n",
        "  [1]: https://plato.stanford.edu/entries/facts/"
      ]
    }
  ]
}